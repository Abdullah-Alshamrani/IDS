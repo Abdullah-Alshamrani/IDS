{
  "nbformat": 4,
  "nbformat_minor": 0,
  "metadata": {
    "colab": {
      "provenance": [],
      "authorship_tag": "ABX9TyPY48QA2r1kgoiobq3SRuuq",
      "include_colab_link": true
    },
    "kernelspec": {
      "name": "python3",
      "display_name": "Python 3"
    },
    "language_info": {
      "name": "python"
    }
  },
  "cells": [
    {
      "cell_type": "markdown",
      "metadata": {
        "id": "view-in-github",
        "colab_type": "text"
      },
      "source": [
        "<a href=\"https://colab.research.google.com/github/AbdullahAlshamrani0/IDS/blob/main/H.W6/Project6.ipynb\" target=\"_parent\"><img src=\"https://colab.research.google.com/assets/colab-badge.svg\" alt=\"Open In Colab\"/></a>"
      ]
    },
    {
      "cell_type": "markdown",
      "source": [
        "Abdullah Alshamrani: Project 6\n"
      ],
      "metadata": {
        "id": "eDgyqop9ARO3"
      }
    },
    {
      "cell_type": "markdown",
      "source": [
        "In this problem, I will perform more data analyses on the adult_training dataset that was used previously: https://raw.githubusercontent.com/bforoura/IDS/main/HW4/adult_training.csv"
      ],
      "metadata": {
        "id": "WX23o__H9fEd"
      }
    },
    {
      "cell_type": "code",
      "source": [
        "#Import necessary libraries\n",
        "import pandas as pd\n",
        "import numpy as np\n",
        "import matplotlib.pyplot as plt\n",
        "from sklearn.model_selection import train_test_split\n",
        "from sklearn.tree import DecisionTreeClassifier\n",
        "from sklearn.metrics import accuracy_score, confusion_matrix\n",
        "import seaborn as sns"
      ],
      "metadata": {
        "id": "azuw6hEq9tGZ"
      },
      "execution_count": 9,
      "outputs": []
    },
    {
      "cell_type": "markdown",
      "source": [
        "Write four functions to create classification models, record classification accuracy, and plot results. You will need to demonstrate your functions using the following calls (feel free to add extra formal function parameters, as necessary):\n",
        "\n",
        "\n",
        "1. Decision Tree Model\n",
        "2. Decision Tree Clasifiers\n",
        "3. confusion matrix\n",
        "4. plots of side-by-side model comparisons\n",
        "\n"
      ],
      "metadata": {
        "id": "pe0pV6Mr-y7p"
      }
    },
    {
      "cell_type": "code",
      "source": [
        "# 1. Decision Tree Model\n",
        "\n",
        "def makeDTModel(criterion, X_train, y_train, max_depth=None, max_leaf_nodes=None):\n",
        "    model = DecisionTreeClassifier(criterion=criterion, max_depth=max_depth, max_leaf_nodes=max_leaf_nodes)\n",
        "    model.fit(X_train, y_train)\n",
        "    return model"
      ],
      "metadata": {
        "id": "vN7newZg-Esi"
      },
      "execution_count": 1,
      "outputs": []
    },
    {
      "cell_type": "code",
      "source": [
        "# 2. Decision Tree Clasifiers\n",
        "\n",
        "def displayTree(model, feature_names):\n",
        "    from sklearn.tree import export_text\n",
        "    tree_rules = export_text(model, feature_names=list(feature_names))\n",
        "    print(tree_rules)"
      ],
      "metadata": {
        "id": "Fgk1rosj-aYw"
      },
      "execution_count": 2,
      "outputs": []
    },
    {
      "cell_type": "code",
      "source": [
        "# 3. confusion matrix\n",
        "\n",
        "def displayCM(model, X_train, y_train, X_test, y_test):\n",
        "    train_pred = model.predict(X_train)\n",
        "    test_pred = model.predict(X_test)\n",
        "\n",
        "    train_acc = accuracy_score(y_train, train_pred)\n",
        "    test_acc = accuracy_score(y_test, test_pred)\n",
        "\n",
        "    print(f\"Training Accuracy: {train_acc:.4f}\")\n",
        "    print(f\"Testing Accuracy: {test_acc:.4f}\")\n",
        "\n",
        "    cm = confusion_matrix(y_test, test_pred)\n",
        "    plt.figure(figsize=(8, 6))\n",
        "    sns.heatmap(cm, annot=True, fmt=\"d\", cmap=\"Blues\", xticklabels=[\"<=50K\", \">50K\"], yticklabels=[\"<=50K\", \">50K\"])\n",
        "    plt.xlabel(\"Predicted Label\")\n",
        "    plt.ylabel(\"True Label\")\n",
        "    plt.title(\"Confusion Matrix\")\n",
        "    plt.show()"
      ],
      "metadata": {
        "id": "ivrPGqb1-gmx"
      },
      "execution_count": 3,
      "outputs": []
    },
    {
      "cell_type": "code",
      "source": [
        "# 4. plots of side-by-side model comparisons\n",
        "\n",
        "def compareModels(model1, model2, X_test, y_test):\n",
        "    pred1 = model1.predict(X_test)\n",
        "    pred2 = model2.predict(X_test)\n",
        "\n",
        "    acc1 = accuracy_score(y_test, pred1)\n",
        "    acc2 = accuracy_score(y_test, pred2)\n",
        "\n",
        "    plt.bar(['Model 1', 'Model 2'], [acc1, acc2], color=['blue', 'orange'])\n",
        "    plt.ylabel('Accuracy')\n",
        "    plt.title('Model Comparison')\n",
        "    plt.show()"
      ],
      "metadata": {
        "id": "-6mYBKMm-kap"
      },
      "execution_count": 4,
      "outputs": []
    },
    {
      "cell_type": "markdown",
      "source": [
        "Analyze the effect of the parameters max_depth and max_leaf_nodes on classification accuracy. Plot the obtained accuracy values for various choices of max_depth (e.g. 2, 3, 4, none) and max_leaf_nodes (3, 4, 5, none).\n"
      ],
      "metadata": {
        "id": "D1-_97M6_rJV"
      }
    },
    {
      "cell_type": "code",
      "source": [
        "# Function to analyze the effect of max_depth and max_leaf_nodes on classification accuracy\n",
        "def analyzeParameters(X_train, y_train, X_test, y_test):\n",
        "    depths = [2, 3, 4, None]\n",
        "    leaf_nodes = [3, 4, 5, None]\n",
        "\n",
        "    for depth in depths:\n",
        "        for leaf_node in leaf_nodes:\n",
        "            model = makeDTModel(\"gini\", X_train, y_train, max_depth=depth, max_leaf_nodes=leaf_node)\n",
        "            test_pred = model.predict(X_test)\n",
        "            acc = accuracy_score(y_test, test_pred)\n",
        "            print(f\"max_depth={depth}, max_leaf_nodes={leaf_node}: Accuracy={acc:.4f}\")"
      ],
      "metadata": {
        "id": "GvNSwA85_sKV"
      },
      "execution_count": 5,
      "outputs": []
    },
    {
      "cell_type": "markdown",
      "source": [
        "Loading the datasets and testing functions:"
      ],
      "metadata": {
        "id": "diDxMlmL_5AM"
      }
    },
    {
      "cell_type": "code",
      "source": [
        "# Load the dataset\n",
        "url = \"https://raw.githubusercontent.com/bforoura/IDS/main/HW4/adult_training.csv\"\n",
        "data = pd.read_csv(url)\n",
        "\n",
        "# Assuming you have already preprocessed the data and split it into features (X) and target variable (y)\n",
        "X = data.drop('age', axis=1)\n",
        "y = data['age']\n",
        "X_train, X_test, y_train, y_test = train_test_split(X, y, test_size=0.2, random_state=42)\n"
      ],
      "metadata": {
        "id": "HqdT8zbFACLv"
      },
      "execution_count": 15,
      "outputs": []
    }
  ]
}