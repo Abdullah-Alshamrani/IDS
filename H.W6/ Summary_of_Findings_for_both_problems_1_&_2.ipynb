{
  "nbformat": 4,
  "nbformat_minor": 0,
  "metadata": {
    "colab": {
      "provenance": [],
      "authorship_tag": "ABX9TyN4KNTMgNzouEK8f+5EO1Ax",
      "include_colab_link": true
    },
    "kernelspec": {
      "name": "python3",
      "display_name": "Python 3"
    },
    "language_info": {
      "name": "python"
    }
  },
  "cells": [
    {
      "cell_type": "markdown",
      "metadata": {
        "id": "view-in-github",
        "colab_type": "text"
      },
      "source": [
        "<a href=\"https://colab.research.google.com/github/AbdullahAlshamrani0/IDS/blob/main/H.W6/%20Summary_of_Findings_for_both_problems_1_%26_2.ipynb\" target=\"_parent\"><img src=\"https://colab.research.google.com/assets/colab-badge.svg\" alt=\"Open In Colab\"/></a>"
      ]
    },
    {
      "cell_type": "markdown",
      "source": [
        "**Abdullah Alshamrani**\n",
        "\n",
        "\n",
        "Project 6 - Problem 1 (Python) + Problem 2 (R)\n",
        "\n",
        "\n",
        "\n",
        "\n",
        "#Summary of Findings for both problems 1 & 2\n",
        "\n",
        "\n",
        "\n",
        "\n",
        "#**Problem (1) -  Python**\n",
        "\n",
        "Decision Tree Visualization: Visualizing a decision tree with a large number of features and depth is challenging. To improve visualization, I used the max_depth parameter in the DecisionTreeClassifier.\n",
        "\n",
        "First of all on this code, the dataset was loaded. Income was treated as the target, after that it was put in a train/test model.\n",
        "\n",
        "There were four functions implemented in this problem:\n",
        "MakeDTModel\n",
        "DisplayTree\n",
        "DisplayCM\n",
        "CompareModels\n",
        "+ AnalysParamters\n",
        "Adjusting parameters such as max_depth helps control the size and complexity of the decision tree, making it more interpretable.\n",
        "\n",
        "\n",
        "\n",
        "\n",
        "\n",
        "\n",
        "\n",
        "#**Problem (2) - R**\n",
        "\n",
        "Column Names Issue: There was an issue with the column names. the dataset had spaces in the column names, and R requires backticks or removing spaces. However, there were additional complications with the quotation marks around the column names.\n",
        "Conversion to Factor: The C5.0 algorithm was expecting the outcome variable ('Approval') to be a factor. I made sure to explicitly convert it to a factor using the as.factor() function.\n",
        " Final Working Code: The final working code explicitly converts the 'Approval' column to a factor before training both the CART and C5.0 models. The modified code uses as.factor() on the 'Approval' column and simplifies the predictor names.\n",
        "\n",
        "\n",
        "Accuracy of CART model: 0.8432331\n",
        "Accuracy of C5.0 model: 0.8479617\n"
      ],
      "metadata": {
        "id": "-okPYTPFQWJm"
      }
    }
  ]
}