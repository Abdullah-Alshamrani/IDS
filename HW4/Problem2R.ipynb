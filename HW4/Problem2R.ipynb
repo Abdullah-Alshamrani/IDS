{
  "nbformat": 4,
  "nbformat_minor": 0,
  "metadata": {
    "colab": {
      "provenance": [],
      "authorship_tag": "ABX9TyNEhcqX3bSpiBHy+uV25QVD",
      "include_colab_link": true
    },
    "kernelspec": {
      "name": "ir",
      "display_name": "R"
    },
    "language_info": {
      "name": "R"
    }
  },
  "cells": [
    {
      "cell_type": "markdown",
      "metadata": {
        "id": "view-in-github",
        "colab_type": "text"
      },
      "source": [
        "<a href=\"https://colab.research.google.com/github/AbdullahAlshamrani0/IDS/blob/main/HW4/Problem2R.ipynb\" target=\"_parent\"><img src=\"https://colab.research.google.com/assets/colab-badge.svg\" alt=\"Open In Colab\"/></a>"
      ]
    },
    {
      "cell_type": "markdown",
      "source": [
        "#R Language\n",
        "\n"
      ],
      "metadata": {
        "id": "nQ2yzQ_vW15I"
      }
    },
    {
      "cell_type": "code",
      "source": [
        "# Loading the dataset\n",
        "url <- \"https://raw.githubusercontent.com/bforoura/IDS/main/HW4/nutrition_subset.csv\"\n",
        "data <- read.csv(url, header = TRUE)\n"
      ],
      "metadata": {
        "id": "d79I-PsxXH9w"
      },
      "execution_count": 29,
      "outputs": []
    },
    {
      "cell_type": "code",
      "source": [
        "#Sort the data set by saturated_ fat and produce a listing of the five food items highest in saturated fat. Comment on the validity of comparing food items of different sizes.\n",
        "top_saturated_fat <- head(arrange(data, desc(saturated_fat)), 5)\n",
        "print(\"Top 5 food items highest in saturated fat:\")\n",
        "print(top_saturated_fat)\n"
      ],
      "metadata": {
        "colab": {
          "base_uri": "https://localhost:8080/"
        },
        "id": "8N_3nxUiXQyZ",
        "outputId": "6f136dcb-5dc1-475b-af05-e3326a8bf8d3"
      },
      "execution_count": 30,
      "outputs": [
        {
          "output_type": "stream",
          "name": "stdout",
          "text": [
            "[1] \"Top 5 food items highest in saturated fat:\"\n",
            "                               food.item weight_in_grams saturated_fat\n",
            "1 CHEESECAKE                    1 CAKE              1110         119.9\n",
            "2 ICE CREAM; VANLLA; RICH 16% FT1/2 GAL             1188         118.3\n",
            "3 YELLOWCAKE W/ CHOCFRSTNG;COMML1 CAKE              1108          92.0\n",
            "4 CREME PIE                     1 PIE                910          90.1\n",
            "5 LARD                          1 CUP                205          80.4\n",
            "  cholesterol\n",
            "1        2053\n",
            "2         703\n",
            "3         609\n",
            "4          46\n",
            "5         195\n"
          ]
        }
      ]
    },
    {
      "cell_type": "code",
      "source": [
        "#Create a new variable, saturated_ fat_ per_gram, by dividing the amount of saturated fat  by the weight in grams. Sort the data set by saturated_ fat_ per_gram and produce a listing of the five food  items highest in saturated fat per gram. Which food has the most saturated fat per gram?\n",
        "data$saturated_fat_per_gram <- data$saturated_fat / data$weight_in_grams\n",
        "\n",
        "top_saturated_fat_per_gram <- head(arrange(data, desc(saturated_fat_per_gram)), 5)\n",
        "print(\"Top 5 food items highest in saturated fat per gram:\")\n",
        "print(top_saturated_fat_per_gram)\n"
      ],
      "metadata": {
        "colab": {
          "base_uri": "https://localhost:8080/"
        },
        "id": "nC2R5_VnXhhV",
        "outputId": "bfe8f316-bbbc-4a08-b495-d31054b4172d"
      },
      "execution_count": 31,
      "outputs": [
        {
          "output_type": "stream",
          "name": "stdout",
          "text": [
            "[1] \"Top 5 food items highest in saturated fat per gram:\"\n",
            "                               food.item weight_in_grams saturated_fat\n",
            "1 BUTTER; SALTED                1 TBSP                14           7.1\n",
            "2 BUTTER; UNSALTED              1 TBSP                14           7.1\n",
            "3 BUTTER; SALTED                1/2 CUP              113          57.1\n",
            "4 BUTTER; UNSALTED              1/2 CUP              113          57.1\n",
            "5 BUTTER; SALTED                1 PAT                  5           2.5\n",
            "  cholesterol saturated_fat_per_gram\n",
            "1          31              0.5071429\n",
            "2          31              0.5071429\n",
            "3         247              0.5053097\n",
            "4         247              0.5053097\n",
            "5          11              0.5000000\n"
          ]
        }
      ]
    },
    {
      "cell_type": "code",
      "source": [
        "#Standardize (zero mean) the field saturated_ fat_ per_gram, and produce a listing of all the food items that are outliers at the high end of the scale. How many food items are outliers at the low end of the scale? Create a density plot for saturated_ fat_ per_gram\n",
        "data$standardized_saturated_fat_per_gram <- scale(data$saturated_fat_per_gram)\n",
        "\n",
        "high_end_outliers <- data[data$standardized_saturated_fat_per_gram > 3]  # Adjust the threshold as needed\n",
        "print(\"Food items as outliers at the high end of the scale:\")\n",
        "print(high_end_outliers)\n",
        "\n",
        "# Ploting for saturated_ fat_ per_gram\n",
        "density_plot <- ggplot(data, aes(x = standardized_saturated_fat_per_gram)) +\n",
        "  geom_density() +\n",
        "  labs(title = \"Density Plot for Saturated Fat per Gram\", x = \"Standardized Saturated Fat per Gram\")\n",
        "print(density_plot)\n",
        "\n"
      ],
      "metadata": {
        "colab": {
          "base_uri": "https://localhost:8080/",
          "height": 1000
        },
        "id": "P2tYazvdYClm",
        "outputId": "528a74d0-8dfa-4156-959d-2682312ba26e"
      },
      "execution_count": 32,
      "outputs": [
        {
          "output_type": "stream",
          "name": "stdout",
          "text": [
            "[1] \"Food items as outliers at the high end of the scale:\"\n",
            " [1] \"CHOCOLATE; BITTER OT BAKING   1 OZ    \"\n",
            " [2] \"COCONUT; RAW; SHREDDED        1 CUP   \"\n",
            " [3] \"COCONUT; DRIED; SWEETND;SHREDD1 CUP   \"\n",
            " [4] \"COCONUT; RAW; PIECE           1 PIECE \"\n",
            " [5] \"BUTTER; SALTED                1/2 CUP \"\n",
            " [6] \"BUTTER; UNSALTED              1/2 CUP \"\n",
            " [7] \"LARD                          1 CUP   \"\n",
            " [8] \"FATS; COOKING/VEGETBL SHORTENG1 TBSP  \"\n",
            " [9] \"LARD                          1 TBSP  \"\n",
            "[10] \"FATS; COOKING/VEGETBL SHORTENG1 CUP   \"\n",
            "[11] \"BUTTER; SALTED                1 TBSP  \"\n",
            "[12] \"BUTTER; UNSALTED              1 TBSP  \"\n",
            "[13] \"BUTTER; SALTED                1 PAT   \"\n",
            "[14] \"BUTTER; UNSALTED              1 PAT   \"\n",
            "[15] \"IMITATION CREAMERS; POWDERED  1 TSP   \"\n",
            "[16] \"  28.35\"                               \n",
            "[17] \"  80.00\"                               \n",
            "[18] \"  93.00\"                               \n",
            "[19] \"  45.00\"                               \n",
            "[20] \" 113.00\"                               \n",
            "[21] \" 113.00\"                               \n",
            "[22] \" 205.00\"                               \n",
            "[23] \"  13.00\"                               \n",
            "[24] \"  13.00\"                               \n",
            "[25] \" 205.00\"                               \n",
            "[26] \"  14.00\"                               \n",
            "[27] \"  14.00\"                               \n",
            "[28] \"   5.00\"                               \n",
            "[29] \"   5.00\"                               \n",
            "[30] \"   2.00\"                               \n",
            "[31] \"  9.0\"                                 \n",
            "[32] \" 23.8\"                                 \n",
            "[33] \" 29.3\"                                 \n",
            "[34] \" 13.4\"                                 \n",
            "[35] \" 57.1\"                                 \n",
            "[36] \" 57.1\"                                 \n",
            "[37] \" 80.4\"                                 \n",
            "[38] \"  3.3\"                                 \n",
            "[39] \"  5.1\"                                 \n",
            "[40] \" 51.3\"                                 \n",
            "[41] \"  7.1\"                                 \n",
            "[42] \"  7.1\"                                 \n",
            "[43] \"  2.5\"                                 \n",
            "[44] \"  2.5\"                                 \n",
            "[45] \"  0.7\"                                 \n",
            "[46] \"   0\"                                  \n",
            "[47] \"   0\"                                  \n",
            "[48] \"   0\"                                  \n",
            "[49] \"   0\"                                  \n",
            "[50] \" 247\"                                  \n",
            "[51] \" 247\"                                  \n",
            "[52] \" 195\"                                  \n",
            "[53] \"   0\"                                  \n",
            "[54] \"  12\"                                  \n",
            "[55] \"   0\"                                  \n",
            "[56] \"  31\"                                  \n",
            "[57] \"  31\"                                  \n",
            "[58] \"  11\"                                  \n",
            "[59] \"  11\"                                  \n",
            "[60] \"   0\"                                  \n",
            "[61] \"0.3174603175\"                          \n",
            "[62] \"0.2975000000\"                          \n",
            "[63] \"0.3150537634\"                          \n",
            "[64] \"0.2977777778\"                          \n",
            "[65] \"0.5053097345\"                          \n",
            "[66] \"0.5053097345\"                          \n",
            "[67] \"0.3921951220\"                          \n",
            "[68] \"0.2538461538\"                          \n",
            "[69] \"0.3923076923\"                          \n",
            "[70] \"0.2502439024\"                          \n",
            "[71] \"0.5071428571\"                          \n",
            "[72] \"0.5071428571\"                          \n",
            "[73] \"0.5000000000\"                          \n",
            "[74] \"0.5000000000\"                          \n",
            "[75] \"0.3500000000\"                          \n",
            "[76] \" 4.238469142\"                          \n",
            "[77] \" 3.936636967\"                          \n",
            "[78] \" 4.202078166\"                          \n",
            "[79] \" 3.940837415\"                          \n",
            "[80] \" 7.079055125\"                          \n",
            "[81] \" 7.079055125\"                          \n",
            "[82] \" 5.368579852\"                          \n",
            "[83] \" 3.276520447\"                          \n",
            "[84] \" 5.370282097\"                          \n",
            "[85] \" 3.222048599\"                          \n",
            "[86] \" 7.106774894\"                          \n",
            "[87] \" 7.106774894\"                          \n",
            "[88] \" 6.998763381\"                          \n",
            "[89] \" 6.998763381\"                          \n",
            "[90] \" 4.730521593\"                          \n"
          ]
        },
        {
          "output_type": "display_data",
          "data": {
            "text/plain": [
              "plot without title"
            ],
            "image/png": "[encoded data removed]"
          },
          "metadata": {
            "image/png": {
              "width": 420,
              "height": 420
            }
          }
        }
      ]
    },
    {
      "cell_type": "code",
      "source": [
        "# Are there any missing values? If so, impute as necessary and explain your approach.\n",
        "missing_values <- colSums(is.na(data))\n",
        "print(\"Missing values:\")\n",
        "print(missing_values)\n"
      ],
      "metadata": {
        "colab": {
          "base_uri": "https://localhost:8080/"
        },
        "id": "VWfsu95XYjvc",
        "outputId": "0176c7ef-010c-4d94-bfac-dbe110ae3060"
      },
      "execution_count": 33,
      "outputs": [
        {
          "output_type": "stream",
          "name": "stdout",
          "text": [
            "[1] \"Missing values:\"\n",
            "             food.item        weight_in_grams          saturated_fat \n",
            "                     0                      0                      0 \n",
            "           cholesterol saturated_fat_per_gram                        \n",
            "                     0                      0                      0 \n"
          ]
        }
      ]
    },
    {
      "cell_type": "code",
      "source": [
        "#Standardize (zero mean) the numeric variables, and determine if there are any outliers.\n",
        "numeric_cols <- sapply(data, is.numeric)\n",
        "data[numeric_cols] <- scale(data[numeric_cols])"
      ],
      "metadata": {
        "id": "eJ_ThuPvYy_l"
      },
      "execution_count": 34,
      "outputs": []
    },
    {
      "cell_type": "markdown",
      "source": [
        "#Summary"
      ],
      "metadata": {
        "id": "kwQkq9P3bxyi"
      }
    },
    {
      "cell_type": "markdown",
      "source": [
        "1. High Saturated Fat Foods: The top 5 foods highest in saturated fat. However, comparing them directly is tricky because they come in different sizes.\n",
        "\n",
        "\n",
        "2. Saturated Fat per Gram: We made a fairer comparison by looking at saturated fat per gram. This showed us which foods are dense in saturated fat.\n",
        "\n",
        "\n",
        "3. Outliers: Some foods had very high or low saturated fat per gram. We also checked for extreme values in other data.\n",
        "\n",
        "\n"
      ],
      "metadata": {
        "id": "2JZvd2gnb4wF"
      }
    }
  ]
}