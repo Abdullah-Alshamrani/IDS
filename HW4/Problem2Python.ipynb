{
  "nbformat": 4,
  "nbformat_minor": 0,
  "metadata": {
    "colab": {
      "provenance": [],
      "authorship_tag": "ABX9TyN2+xgcBh4C/dw143e7u2cG",
      "include_colab_link": true
    },
    "kernelspec": {
      "name": "python3",
      "display_name": "Python 3"
    },
    "language_info": {
      "name": "python"
    }
  },
  "cells": [
    {
      "cell_type": "markdown",
      "metadata": {
        "id": "view-in-github",
        "colab_type": "text"
      },
      "source": [
        "<a href=\"https://colab.research.google.com/github/AbdullahAlshamrani0/IDS/blob/main/HW4/Problem2Python.ipynb\" target=\"_parent\"><img src=\"https://colab.research.google.com/assets/colab-badge.svg\" alt=\"Open In Colab\"/></a>"
      ]
    },
    {
      "cell_type": "code",
      "execution_count": null,
      "metadata": {
        "id": "zP2_rt544zeb"
      },
      "outputs": [],
      "source": [
        "#Importing Neccessuary Libraries\n",
        "import pandas as pd\n",
        "import matplotlib.pyplot as plt\n",
        "import numpy as np\n",
        "from scipy import stats"
      ]
    },
    {
      "cell_type": "code",
      "source": [
        "# Loading Dataset\n",
        "# Load the dataset\n",
        "url = \"https://raw.githubusercontent.com/bforoura/IDS/main/HW4/nutrition_subset.csv\"\n",
        "data = pd.read_csv(url)"
      ],
      "metadata": {
        "id": "Ictsn9IC6X1r"
      },
      "execution_count": null,
      "outputs": []
    },
    {
      "cell_type": "code",
      "source": [
        "#Sort the data set by saturated_ fat and produce a listing of the five food items highest in saturated fat. Comment on the validity of comparing food items of different sizes.\n",
        "saturated_fat = data.sort_values(by='saturated_fat', ascending=False).head(5)\n",
        "print(\"A list of five food items highest in saturated fat:\")\n",
        "print(saturated_fat)"
      ],
      "metadata": {
        "colab": {
          "base_uri": "https://localhost:8080/"
        },
        "id": "Sz7gCF126qXP",
        "outputId": "2e3971ed-53ef-445e-ef60-ca4e2935aa69"
      },
      "execution_count": null,
      "outputs": [
        {
          "output_type": "stream",
          "name": "stdout",
          "text": [
            "A list of five food items highest in saturated fat:\n",
            "                                  food item  weight_in_grams  saturated_fat  \\\n",
            "378  CHEESECAKE                    1 CAKE             1110.0          119.9   \n",
            "535  ICE CREAM; VANLLA; RICH 16% FT1/2 GAL            1188.0          118.3   \n",
            "458  YELLOWCAKE W/ CHOCFRSTNG;COMML1 CAKE             1108.0           92.0   \n",
            "581  CREME PIE                     1 PIE               910.0           90.1   \n",
            "890  LARD                          1 CUP               205.0           80.4   \n",
            "\n",
            "     cholesterol  \n",
            "378         2053  \n",
            "535          703  \n",
            "458          609  \n",
            "581           46  \n",
            "890          195  \n"
          ]
        }
      ]
    },
    {
      "cell_type": "code",
      "source": [
        "#Create a new variable, saturated_fat_ per_gram, by dividing the amount of saturated fat by the weight in grams. Sort the data set by saturated_ fat_ per_gram and produce a listing of the five food  items highest in saturated fat per gram. Which food has the most saturated fat per gram?\n",
        "data['saturated_fat_per_gram'] = data['saturated_fat'] / data['weight_in_grams'] # cala\n",
        "top_saturated_fat_per_gram = data.sort_values(by='saturated_fat_per_gram', ascending=False).head(5)\n",
        "print(\"Top 5 food items highest in saturated fat per gram:\")\n",
        "print(top_saturated_fat_per_gram)\n",
        "\n"
      ],
      "metadata": {
        "colab": {
          "base_uri": "https://localhost:8080/"
        },
        "id": "a-WxPbnd73F8",
        "outputId": "f13dacdf-cba5-451e-8539-03a399b009b8"
      },
      "execution_count": null,
      "outputs": [
        {
          "output_type": "stream",
          "name": "stdout",
          "text": [
            "Top 5 food items highest in saturated fat per gram:\n",
            "                                  food item  weight_in_grams  saturated_fat  \\\n",
            "908  BUTTER; SALTED                1 TBSP               14.0            7.1   \n",
            "909  BUTTER; UNSALTED              1 TBSP               14.0            7.1   \n",
            "710  BUTTER; UNSALTED              1/2 CUP             113.0           57.1   \n",
            "709  BUTTER; SALTED                1/2 CUP             113.0           57.1   \n",
            "913  BUTTER; UNSALTED              1 PAT                 5.0            2.5   \n",
            "\n",
            "     cholesterol  saturated_fat_per_gram  \n",
            "908           31                0.507143  \n",
            "909           31                0.507143  \n",
            "710          247                0.505310  \n",
            "709          247                0.505310  \n",
            "913           11                0.500000  \n"
          ]
        }
      ]
    },
    {
      "cell_type": "code",
      "source": [
        "#Standardize (zero mean) the field saturated_ fat_ per_gram, and produce a listing of all the food items that are outliers at the high end of the scale. How many food items are outliers at the low end of the scale? Create a density plot for saturated_ fat_ per_gram\n",
        "data['standardized_saturated_fat_per_gram'] = (data['saturated_fat_per_gram'] - data['saturated_fat_per_gram'].mean()) / data['saturated_fat_per_gram'].std()\n",
        "high_end_outliers = data[data['standardized_saturated_fat_per_gram'] > 3]  # Adjust the threshold as needed\n",
        "print(\"Food items as outliers at the high end of the scale:\")\n",
        "print(high_end_outliers)\n",
        "\n",
        "#Ploting\n",
        "data['standardized_saturated_fat_per_gram'].plot.kde()\n",
        "plt.title(\"Density Plot for Saturated Fat per Gram\")\n",
        "plt.xlabel(\"Standardized Saturated Fat per Gram\")\n",
        "plt.show()\n",
        "\n"
      ],
      "metadata": {
        "colab": {
          "base_uri": "https://localhost:8080/",
          "height": 1000
        },
        "id": "lBH4qX7E_MBi",
        "outputId": "d6a44241-8667-4340-aa02-cdc02790736a"
      },
      "execution_count": null,
      "outputs": [
        {
          "output_type": "stream",
          "name": "stdout",
          "text": [
            "Food items as outliers at the high end of the scale:\n",
            "                                  food item  weight_in_grams  saturated_fat  \\\n",
            "210  CHOCOLATE; BITTER OT BAKING   1 OZ                28.35            9.0   \n",
            "448  COCONUT; RAW; SHREDDED        1 CUP               80.00           23.8   \n",
            "492  COCONUT; DRIED; SWEETND;SHREDD1 CUP               93.00           29.3   \n",
            "576  COCONUT; RAW; PIECE           1 PIECE             45.00           13.4   \n",
            "709  BUTTER; SALTED                1/2 CUP            113.00           57.1   \n",
            "710  BUTTER; UNSALTED              1/2 CUP            113.00           57.1   \n",
            "890  LARD                          1 CUP              205.00           80.4   \n",
            "898  FATS; COOKING/VEGETBL SHORTENG1 TBSP              13.00            3.3   \n",
            "899  LARD                          1 TBSP              13.00            5.1   \n",
            "907  FATS; COOKING/VEGETBL SHORTENG1 CUP              205.00           51.3   \n",
            "908  BUTTER; SALTED                1 TBSP              14.00            7.1   \n",
            "909  BUTTER; UNSALTED              1 TBSP              14.00            7.1   \n",
            "912  BUTTER; SALTED                1 PAT                5.00            2.5   \n",
            "913  BUTTER; UNSALTED              1 PAT                5.00            2.5   \n",
            "920  IMITATION CREAMERS; POWDERED  1 TSP                2.00            0.7   \n",
            "\n",
            "     cholesterol  saturated_fat_per_gram  standardized_saturated_fat_per_gram  \n",
            "210            0                0.317460                             4.238469  \n",
            "448            0                0.297500                             3.936637  \n",
            "492            0                0.315054                             4.202078  \n",
            "576            0                0.297778                             3.940837  \n",
            "709          247                0.505310                             7.079055  \n",
            "710          247                0.505310                             7.079055  \n",
            "890          195                0.392195                             5.368580  \n",
            "898            0                0.253846                             3.276520  \n",
            "899           12                0.392308                             5.370282  \n",
            "907            0                0.250244                             3.222049  \n",
            "908           31                0.507143                             7.106775  \n",
            "909           31                0.507143                             7.106775  \n",
            "912           11                0.500000                             6.998763  \n",
            "913           11                0.500000                             6.998763  \n",
            "920            0                0.350000                             4.730522  \n"
          ]
        },
        {
          "output_type": "display_data",
          "data": {
            "text/plain": [
              "<Figure size 640x480 with 1 Axes>"
            ],
            "image/png": "[encoded data removed]"
          },
          "metadata": {}
        }
      ]
    },
    {
      "cell_type": "code",
      "source": [
        "#Are there any missing values? If so, impute as necessary and explain your approach.\n",
        "missing_values = data.isnull().sum()\n",
        "print(\"Missing values:\")\n",
        "print(missing_values)"
      ],
      "metadata": {
        "colab": {
          "base_uri": "https://localhost:8080/"
        },
        "id": "XtzPlXV3NHsE",
        "outputId": "86b7f236-333d-4534-c573-e536bed7530f"
      },
      "execution_count": null,
      "outputs": [
        {
          "output_type": "stream",
          "name": "stdout",
          "text": [
            "Missing values:\n",
            "food item                              0\n",
            "weight_in_grams                        0\n",
            "saturated_fat                          0\n",
            "cholesterol                            0\n",
            "saturated_fat_per_gram                 0\n",
            "standardized_saturated_fat_per_gram    0\n",
            "dtype: int64\n"
          ]
        }
      ]
    },
    {
      "cell_type": "code",
      "source": [
        "#Standardize (zero mean) the numeric variables, and determine if there are any outliers.\n",
        "numeric_cols = data.select_dtypes(include=[np.number]).columns\n",
        "data[numeric_cols] = (data[numeric_cols] - data[numeric_cols].mean()) / data[numeric_cols].std()\n",
        "outliers = data[(np.abs(data[numeric_cols]) > 3).any(axis=1)]  # Adjust the threshold as needed\n",
        "print(\"Outliers in numeric variables:\")\n",
        "print(outliers)\n"
      ],
      "metadata": {
        "colab": {
          "base_uri": "https://localhost:8080/"
        },
        "id": "GAhpsiWGNv6Z",
        "outputId": "85bb997b-c2d4-4e7e-fd37-b681425994ef"
      },
      "execution_count": null,
      "outputs": [
        {
          "output_type": "stream",
          "name": "stdout",
          "text": [
            "Outliers in numeric variables:\n",
            "                                  food item  weight_in_grams  saturated_fat  \\\n",
            "45   BEEF LIVER; FRIED             3 OZ            -0.366151      -0.138456   \n",
            "210  CHOCOLATE; BITTER OT BAKING   1 OZ            -0.688192       0.466513   \n",
            "351  POUND CAKE; FROM HOME RECIPE  1 LOAF           2.072605       1.592685   \n",
            "361  CUSTARD PIE                   1 PIE            4.323765       2.765394   \n",
            "376  FRUITCAKE;DARK; FROM HOMERECIP1 CAKE           6.887585       4.059096   \n",
            "378  CHEESECAKE                    1 CAKE           5.460714      10.788208   \n",
            "384  POUND CAKE; COMMERCIAL        1 LOAF           1.993019       4.468613   \n",
            "386  PECAN PIE                     1 PIE            3.840561       2.244190   \n",
            "406  SHEETCAKE W/O FRSTNG;HOMERECIP1 CAKE           3.567693       2.374491   \n",
            "410  DEVIL'S FOOD CAKE;CHOCFRST;FMX1 CAKE           5.443659       4.803673   \n",
            "422  CARROT CAKE;CREMCHESE FRST;REC1 CAKE           7.882415       5.771622   \n",
            "423  YELLOW CAKE W/ CHOC FRST;FRMIX1 CAKE           5.449344       4.077710   \n",
            "430  PUMPKIN PIE                   1 PIE            4.323765       3.184218   \n",
            "433  ICE MILK; VANILLA; 4% FAT     1/2 GAL          5.108259       2.244190   \n",
            "445  WHITE CAKE W/ WHT FRSTNG;COMML1 CAKE           5.631256       2.709550   \n",
            "448  COCONUT; RAW; SHREDDED        1 CUP           -0.394575       1.843980   \n",
            "452  LEMON MERINGUE PIE            1 PIE            3.925832       2.048739   \n",
            "458  YELLOWCAKE W/ CHOCFRSTNG;COMML1 CAKE           5.449344       8.191497   \n",
            "466  ICE CREAM; VANLLA; REGULR 11% 1/2 GALN         5.199215       6.264904   \n",
            "479  SHEETCAKE;W/ WHFRSTNG;HOMERCIP1 CAKE           5.381127       3.500663   \n",
            "492  COCONUT; DRIED; SWEETND;SHREDD1 CUP           -0.320673       2.355876   \n",
            "535  ICE CREAM; VANLLA; RICH 16% FT1/2 GAL          5.904124      10.639293   \n",
            "539  CHERRY PIE                    1 PIE            4.522731       2.272112   \n",
            "545  PEACH PIE                     1 PIE            4.522731       1.918438   \n",
            "556  BLUEBERRY PIE                 1 PIE            4.522731       2.002203   \n",
            "576  COCONUT; RAW; PIECE           1 PIECE         -0.593541       0.876030   \n",
            "579  APPLE PIE                     1 PIE            4.522731       2.179040   \n",
            "581  CREME PIE                     1 PIE            4.323765       8.014660   \n",
            "587  WHIPPING CREAM; UNWHIPED;HEAVY1 CUP            0.503615       4.729215   \n",
            "588  WHIPPING CREAM; UNWHIPED;LIGHT1 CUP            0.509300       3.928795   \n",
            "696  SHERBET; 2% FAT               1/2 GAL          7.916524       1.397234   \n",
            "709  BUTTER; SALTED                1/2 CUP         -0.206978       4.943281   \n",
            "710  BUTTER; UNSALTED              1/2 CUP         -0.206978       4.943281   \n",
            "890  LARD                          1 CUP            0.316019       7.111860   \n",
            "898  FATS; COOKING/VEGETBL SHORTENG1 TBSP          -0.775453      -0.063998   \n",
            "899  LARD                          1 TBSP          -0.775453       0.103532   \n",
            "901  PEANUT OIL                    1 CUP            0.378551       3.025996   \n",
            "905  SOYBEAN-COTTONSEED OIL; HYDRGN1 CUP            0.389920       3.277290   \n",
            "907  FATS; COOKING/VEGETBL SHORTENG1 CUP            0.316019       4.403463   \n",
            "908  BUTTER; SALTED                1 TBSP          -0.769768       0.289676   \n",
            "909  BUTTER; UNSALTED              1 TBSP          -0.769768       0.289676   \n",
            "912  BUTTER; SALTED                1 PAT           -0.820931      -0.138456   \n",
            "913  BUTTER; UNSALTED              1 PAT           -0.820931      -0.138456   \n",
            "920  IMITATION CREAMERS; POWDERED  1 TSP           -0.837985      -0.305985   \n",
            "\n",
            "     cholesterol  saturated_fat_per_gram  standardized_saturated_fat_per_gram  \n",
            "45      3.146420               -0.117289                            -0.117289  \n",
            "210    -0.271369                4.238469                             4.238469  \n",
            "351     4.355150                0.058708                             0.058708  \n",
            "361     8.148063               -0.002044                            -0.002044  \n",
            "376     5.063716               -0.033175                            -0.033175  \n",
            "378    16.842585                1.071364                             1.071364  \n",
            "384     8.898309                1.010605                             1.010605  \n",
            "386     4.471855               -0.046991                            -0.046991  \n",
            "406     4.330142                0.012073                             0.012073  \n",
            "410     4.713601                0.197453                             0.197453  \n",
            "422     9.590203                0.087714                             0.087714  \n",
            "423     4.530208                0.090316                             0.090316  \n",
            "430     5.188757                0.072733                             0.072733  \n",
            "433     0.945697               -0.156587                            -0.156587  \n",
            "445     0.112090               -0.122985                            -0.122985  \n",
            "448    -0.271369                3.936637                             3.936637  \n",
            "452     6.872644               -0.093993                            -0.093993  \n",
            "458     4.805298                0.693543                             0.693543  \n",
            "466     3.696601                0.451276                             0.451276  \n",
            "479     5.030372                0.011916                             0.011916  \n",
            "492    -0.271369                4.202078                             4.202078  \n",
            "535     5.588889                0.943754                             0.943754  \n",
            "539    -0.271369               -0.107594                            -0.107594  \n",
            "545    -0.271369               -0.168401                            -0.168401  \n",
            "556    -0.271369               -0.153999                            -0.153999  \n",
            "576    -0.271369                3.940837                             3.940837  \n",
            "579    -0.271369               -0.123596                            -0.123596  \n",
            "581     0.112090                0.935163                             0.935163  \n",
            "587     2.446190                2.919740                             2.919740  \n",
            "588     1.937690                2.361047                             2.361047  \n",
            "696     0.670607               -0.375719                            -0.375719  \n",
            "709     1.787641                7.079055                             7.079055  \n",
            "710     1.787641                7.079055                             7.079055  \n",
            "890     1.354165                5.368580                             5.368580  \n",
            "898    -0.271369                3.276520                             3.276520  \n",
            "899    -0.171336                5.370282                             5.370282  \n",
            "901    -0.271369                1.993230                             1.993230  \n",
            "905    -0.271369                2.157073                             2.157073  \n",
            "907    -0.271369                3.222049                             3.222049  \n",
            "908    -0.012951                7.106775                             7.106775  \n",
            "909    -0.012951                7.106775                             7.106775  \n",
            "912    -0.179672                6.998763                             6.998763  \n",
            "913    -0.179672                6.998763                             6.998763  \n",
            "920    -0.271369                4.730522                             4.730522  \n"
          ]
        }
      ]
    },
    {
      "cell_type": "markdown",
      "source": [
        "#SUMMARY"
      ],
      "metadata": {
        "id": "vNi7ZPXzOSpf"
      }
    },
    {
      "cell_type": "markdown",
      "source": [
        "\n",
        "1. High Saturated Fat Foods: The top 5 foods highest in saturated fat. However, comparing them directly is tricky because they come in different sizes.\n",
        "\n",
        "\n",
        "2. Saturated Fat per Gram: We made a fairer comparison by looking at saturated fat per gram. This showed us which foods are dense in saturated fat.\n",
        "\n",
        "\n",
        "3. Outliers: Some foods had very high or low saturated fat per gram. We also checked for extreme values in other data.\n",
        "\n"
      ],
      "metadata": {
        "id": "R938fHDQOceB"
      }
    }
  ]
}