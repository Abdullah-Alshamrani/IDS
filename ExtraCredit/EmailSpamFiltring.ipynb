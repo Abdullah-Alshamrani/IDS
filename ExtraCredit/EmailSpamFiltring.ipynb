{
  "nbformat": 4,
  "nbformat_minor": 0,
  "metadata": {
    "colab": {
      "provenance": [],
      "authorship_tag": "ABX9TyMiV3RXwd/jYNvVBm2Q0Gsp",
      "include_colab_link": true
    },
    "kernelspec": {
      "name": "python3",
      "display_name": "Python 3"
    },
    "language_info": {
      "name": "python"
    }
  },
  "cells": [
    {
      "cell_type": "markdown",
      "metadata": {
        "id": "view-in-github",
        "colab_type": "text"
      },
      "source": [
        "<a href=\"https://colab.research.google.com/github/AbdullahAlshamrani0/IDS/blob/main/ExtraCredit/EmailSpamFiltring.ipynb\" target=\"_parent\"><img src=\"https://colab.research.google.com/assets/colab-badge.svg\" alt=\"Open In Colab\"/></a>"
      ]
    },
    {
      "cell_type": "markdown",
      "source": [
        "EXTRA CREDIT: SPAM Fitring"
      ],
      "metadata": {
        "id": "VSz1CB3BCrCo"
      }
    },
    {
      "cell_type": "code",
      "source": [
        "import random\n",
        "from sklearn.model_selection import train_test_split\n",
        "from sklearn.feature_extraction.text import CountVectorizer\n",
        "from sklearn.linear_model import LogisticRegression\n",
        "from sklearn.pipeline import make_pipeline\n",
        "\n",
        "# Generate 10 bogus emails\n",
        "emails = [\n",
        "    \"Hello, this is email from LA fitness regarding your subscribtion.\",\n",
        "    \"You've won a million dollars! Click to claim your prize.\",\n",
        "    \"Your account needs verification.\",\n",
        "    \"Bank of America needs your aprroval in 200$ credits!\",\n",
        "    \"Congratulations! You've been selected for a special offer.\",\n",
        "    \"Your account security is at risk.\",\n",
        "    \"Exclusive deals inside!\",\n",
        "    \"You have to log in to your bank account now for improtant information, click here\",\n",
        "    \"Your package is on the way.\",\n",
        "    \"Buy one, get one free!\"\n",
        "]\n",
        "\n",
        "# Create labels for the emails (0 for not spam, 1 for spam)\n",
        "labels = [random.choice([0, 1]) for _ in range(len(emails))]\n",
        "\n",
        "# Split into training and test sets (70/30)\n",
        "train_x, test_x, train_y, test_y = train_test_split(emails, labels, train_size = 0.7, test_size=0.3, random_state=100)\n",
        "\n",
        "\n",
        "\n",
        "# Train the model\n",
        "#\\model.fit(train_x, train_y)\n",
        "\n",
        "# Use the model to predict on the test set\n",
        "predictions = model.predict(test_x)\n",
        "\n",
        "# Print the results\n",
        "for email, label, prediction in zip(test_x, test_y, predictions):\n",
        "    print(f\"Email: {email}\\nActual Label: {label}\\nPredicted Label: {prediction}\\n\")\n"
      ],
      "metadata": {
        "colab": {
          "base_uri": "https://localhost:8080/"
        },
        "id": "jo3eXOiR-P20",
        "outputId": "fa75a02d-0be9-4c7a-f88f-44b8240bcd51"
      },
      "execution_count": 27,
      "outputs": [
        {
          "output_type": "stream",
          "name": "stdout",
          "text": [
            "Email: You have to log in to your bank account now for improtant information, click here\n",
            "Actual Label: 1\n",
            "Predicted Label: 0\n",
            "\n",
            "Email: Exclusive deals inside!\n",
            "Actual Label: 0\n",
            "Predicted Label: 0\n",
            "\n",
            "Email: You've won a million dollars! Click to claim your prize.\n",
            "Actual Label: 1\n",
            "Predicted Label: 0\n",
            "\n"
          ]
        }
      ]
    }
  ]
}